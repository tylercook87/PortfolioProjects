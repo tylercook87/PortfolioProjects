{
 "cells": [
  {
   "cell_type": "markdown",
   "id": "321029a9",
   "metadata": {},
   "source": [
    "# BMI Calculator \n",
    "https://www.nhlbi.nih.gov/health/educational/lose_wt/BMI/bmicalc.htm"
   ]
  },
  {
   "cell_type": "code",
   "execution_count": 16,
   "id": "6363b510",
   "metadata": {},
   "outputs": [
    {
     "name": "stdout",
     "output_type": "stream",
     "text": [
      "Enter your name: Tyler\n",
      "Enter your weight in pounds: 180\n",
      "Enter your height in feet and inches: 5 11\n",
      "25.1\n",
      "Tyler, you are overweight.\n"
     ]
    }
   ],
   "source": [
    "fullName = input(\"Enter your full name: \")\n",
    "\n",
    "weight = int(input(\"Enter your weight in pounds: \"))\n",
    "\n",
    "ft, inch = [int(x) for x in input(\"Enter your height in feet and inches: \").split()]\n",
    "\n",
    "height = ft * 12 + inch\n",
    "\n",
    "BMI = (weight * 703)/ (height * height)\n",
    "print(round(BMI,1))\n",
    "\n",
    "if BMI > 0:\n",
    "    if (BMI < 18.5):\n",
    "        print (fullName + \", you are underweight.\")\n",
    "    elif (BMI <= 24.9):\n",
    "        print (fullName + \", you are normal weight.\")\n",
    "    elif (BMI <= 29.9):\n",
    "        print (fullName + \", you are overweight.\")\n",
    "    else:\n",
    "        print (fullName + \", you are Obese.\")        "
   ]
  },
  {
   "cell_type": "code",
   "execution_count": null,
   "id": "f2b49f7e",
   "metadata": {},
   "outputs": [],
   "source": []
  }
 ],
 "metadata": {
  "kernelspec": {
   "display_name": "Python 3 (ipykernel)",
   "language": "python",
   "name": "python3"
  },
  "language_info": {
   "codemirror_mode": {
    "name": "ipython",
    "version": 3
   },
   "file_extension": ".py",
   "mimetype": "text/x-python",
   "name": "python",
   "nbconvert_exporter": "python",
   "pygments_lexer": "ipython3",
   "version": "3.11.3"
  }
 },
 "nbformat": 4,
 "nbformat_minor": 5
}
