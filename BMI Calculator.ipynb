{
 "cells": [
  {
   "cell_type": "markdown",
   "id": "cb406931",
   "metadata": {},
   "source": [
    "# BMI Calculator \n",
    "https://www.nhlbi.nih.gov/health/educational/lose_wt/BMI/bmicalc.htm"
   ]
  },
  {
   "cell_type": "code",
   "execution_count": null,
   "id": "73cb018a",
   "metadata": {},
   "outputs": [],
   "source": [
    "fullName = input(\"Enter your full name: \")\n",
    "\n",
    "weight = int(input(\"Enter your weight in pounds: \"))\n",
    "\n",
    "ft, inch = [int(x) for x in input(\"Enter your height in feet and inches: \").split()]\n",
    "\n",
    "height = ft * 12 + inch\n",
    "\n",
    "BMI = (weight * 703)/ (height * height)\n",
    "print(round(BMI,1))\n",
    "\n",
    "if BMI > 0:\n",
    "    if (BMI < 18.5):\n",
    "        print (fullName + \", you are underweight.\")\n",
    "    elif (BMI <= 24.9):\n",
    "        print (fullName + \", you are normal weight.\")\n",
    "    elif (BMI <= 29.9):\n",
    "        print (fullName + \", you are overweight.\")\n",
    "    else:\n",
    "        print (fullName + \", you are Obese.\")        "
   ]
  },
  {
   "cell_type": "code",
   "execution_count": null,
   "id": "8ffd955c",
   "metadata": {},
   "outputs": [],
   "source": []
  }
 ],
 "metadata": {
  "kernelspec": {
   "display_name": "Python 3 (ipykernel)",
   "language": "python",
   "name": "python3"
  },
  "language_info": {
   "codemirror_mode": {
    "name": "ipython",
    "version": 3
   },
   "file_extension": ".py",
   "mimetype": "text/x-python",
   "name": "python",
   "nbconvert_exporter": "python",
   "pygments_lexer": "ipython3",
   "version": "3.11.3"
  }
 },
 "nbformat": 4,
 "nbformat_minor": 5
}
